{
 "cells": [
  {
   "cell_type": "code",
   "execution_count": 7,
   "metadata": {
    "collapsed": false
   },
   "outputs": [],
   "source": [
    "from pyinterpret.model import DeployedModel\n",
    "from pyinterpret.model import InMemoryModel\n",
    "from pyinterpret.core.local_interpretation.lime.lime_text import LimeTextExplainer\n",
    "from pyinterpret.core.explanations import Interpretation\n",
    "import pandas as pd\n",
    "import numpy as np\n",
    "import json\n",
    "import requests\n",
    "np.random.seed(1)\n",
    "from __future__ import print_function"
   ]
  },
  {
   "cell_type": "code",
   "execution_count": 35,
   "metadata": {
    "collapsed": true
   },
   "outputs": [],
   "source": [
    "def input_formatter(data):\n",
    "    # Convert a data frame of the format to ...\n",
    "    return json.dumps(data).encode('utf-8')\n",
    "    \n",
    "def output_formatter(response_list):\n",
    "    return response_list.json()['result'][0]['sentiment']"
   ]
  },
  {
   "cell_type": "code",
   "execution_count": null,
   "metadata": {
    "collapsed": true
   },
   "outputs": [],
   "source": [
    "# input = {\n",
    "#   \"document\": \"I really like working with this model!\"\n",
    "# }"
   ]
  },
  {
   "cell_type": "code",
   "execution_count": 52,
   "metadata": {
    "collapsed": false
   },
   "outputs": [
    {
     "name": "stdout",
     "output_type": "stream",
     "text": [
      "{\"document\": \"I really like working with this model!\"}\n",
      "{'Content-Type': 'application/json', 'Authorization': 'simITeVvtDgkwzhXFSix2CfGURu1'}\n",
      "0.474\n"
     ]
    }
   ],
   "source": [
    "# import Algorithmia\n",
    "\n",
    "# client = Algorithmia.client('simITeVvtDgkwzhXFSix2CfGURu1')\n",
    "# algo = client.algo('nlp/SentimentAnalysis/1.0.3')\n",
    "# test_df = algo.pipe(input).result\n",
    "\n",
    "authorization = \"simITeVvtDgkwzhXFSix2CfGURu1\"\n",
    "data_input = {\"document\": \"I really like working with this model!\"}\n",
    "\n",
    "print(input_formatter(data_input))\n",
    "\n",
    "#input_json = json.dumps(data_input).encode('utf-8')\n",
    "deployed_model_uri = \"https://api.algorithmia.com/v1/algo/nlp/SentimentAnalysis/1.0.3\"\n",
    "headers = {}\n",
    "headers['Authorization'] = 'simITeVvtDgkwzhXFSix2CfGURu1'\n",
    "headers['Content-Type'] = 'application/json'\n",
    "print(headers)\n",
    "\n",
    "\n",
    "r = requests.post(deployed_model_uri, headers=headers, data=input_json)\n",
    "print(output_formatter(r))"
   ]
  },
  {
   "cell_type": "code",
   "execution_count": null,
   "metadata": {
    "collapsed": true
   },
   "outputs": [],
   "source": [
    "dep_model = DeployedModel(deployed_model_uri, input_formatter, output_formatter)\n",
    "\n",
    "# class_names = ['positive_sentiment','negative_sentiment']\n",
    "# explainer = LimeTextExplainer(class_names=class_names)\n",
    "# class_index = [class_names.index(i) for i in class_names]\n",
    "# exp = explainer.explain_instance(docs[0], dep_model.predict, num_features=6, labels=class_index)\n",
    "#exp.show_in_notebook()"
   ]
  }
 ],
 "metadata": {
  "kernelspec": {
   "display_name": "Python 2",
   "language": "python",
   "name": "python2"
  },
  "language_info": {
   "codemirror_mode": {
    "name": "ipython",
    "version": 2
   },
   "file_extension": ".py",
   "mimetype": "text/x-python",
   "name": "python",
   "nbconvert_exporter": "python",
   "pygments_lexer": "ipython2",
   "version": "2.7.6"
  }
 },
 "nbformat": 4,
 "nbformat_minor": 0
}
