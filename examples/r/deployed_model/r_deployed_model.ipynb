{
 "cells": [
  {
   "cell_type": "code",
   "execution_count": 1,
   "metadata": {
    "_datascience": {},
    "collapsed": false
   },
   "outputs": [
    {
     "name": "stderr",
     "output_type": "stream",
     "text": [
      "/usr/local/lib/python2.7/dist-packages/matplotlib/__init__.py:913: UserWarning: axes.color_cycle is deprecated and replaced with axes.prop_cycle; please use the latter.\n",
      "  warnings.warn(self.msg_depr % (key, alt_key))\n"
     ]
    }
   ],
   "source": [
    "%matplotlib inline\n",
    "from skate.model import DeployedModel\n",
    "from skate.model import InMemoryModel\n",
    "from skate.core.explanations import Interpretation\n",
    "import pandas as pd\n",
    "import numpy as np\n",
    "import json\n",
    "import requests\n",
    "np.random.seed(1)\n",
    "from __future__ import print_function"
   ]
  },
  {
   "cell_type": "code",
   "execution_count": 2,
   "metadata": {
    "_datascience": {},
    "collapsed": false
   },
   "outputs": [],
   "source": [
    "def input_formatter(data):\n",
    "    # Convert a data frame of the format \n",
    "    #     Status.of.existing.checking.account  Duration.in.month Credit.history Savings.account.bonds \n",
    "    # 0                                 A11                  6            A34            A65\n",
    "    # 1                                 A12                 48            A32            A61 \n",
    "    # to the following format:\n",
    "    # {\"input\":[{\"Status.of.existing.checking.account\": \"A11\", \"Duration.in.month\": 24, \"Credit.history\": \"A32\", \n",
    "    # \"Savings.account.bonds\": \"A63\"}, {\"Status.of.existing.checking.account\": \"A12\", \"Duration.in.month\": 23, \n",
    "    # \"Credit.history\": \"A31\", \"Savings.account.bonds\": \"A65\"}, {\"Status.of.existing.checking.account\": \"A12\", \n",
    "    # \"Duration.in.month\": 23, \"Credit.history\": \"A31\", \"Savings.account.bonds\": \"A65\"}]}\n",
    "    #if not isinstance(data, pd.DataFrame):\n",
    "    #        raise TypeError(\"must be a dataframe\")\n",
    "    return {\"input\": pd.DataFrame(data).to_json(orient='records')}\n",
    "    \n",
    "def output_formatter(response, key='probability'):\n",
    "    return np.array(response.json()['probability'])"
   ]
  },
  {
   "cell_type": "code",
   "execution_count": 3,
   "metadata": {
    "_datascience": {},
    "collapsed": false
   },
   "outputs": [
    {
     "data": {
      "text/html": [
       "<div>\n",
       "<table border=\"1\" class=\"dataframe\">\n",
       "  <thead>\n",
       "    <tr style=\"text-align: right;\">\n",
       "      <th></th>\n",
       "      <th>Status.of.existing.checking.account</th>\n",
       "      <th>Duration.in.month</th>\n",
       "      <th>Credit.history</th>\n",
       "      <th>Purpose</th>\n",
       "      <th>Credit.amount</th>\n",
       "      <th>Savings.account.bonds</th>\n",
       "      <th>Employment.years</th>\n",
       "      <th>Installment.rate.in.percentage.of.disposable.income</th>\n",
       "      <th>Personal.status.and.sex</th>\n",
       "      <th>Other.debtors.guarantors</th>\n",
       "      <th>...</th>\n",
       "      <th>Property</th>\n",
       "      <th>Age.in.years</th>\n",
       "      <th>Other.installment.plans</th>\n",
       "      <th>Housing</th>\n",
       "      <th>Number.of.existing.credits.at.this.bank</th>\n",
       "      <th>Job</th>\n",
       "      <th>Number.of.people.being.liable.to.provide.maintenance.for</th>\n",
       "      <th>Telephone</th>\n",
       "      <th>Foreign.worker</th>\n",
       "      <th>Status</th>\n",
       "    </tr>\n",
       "  </thead>\n",
       "  <tbody>\n",
       "    <tr>\n",
       "      <th>0</th>\n",
       "      <td>A11</td>\n",
       "      <td>6</td>\n",
       "      <td>A34</td>\n",
       "      <td>A43</td>\n",
       "      <td>1169</td>\n",
       "      <td>A65</td>\n",
       "      <td>A75</td>\n",
       "      <td>4</td>\n",
       "      <td>A93</td>\n",
       "      <td>A101</td>\n",
       "      <td>...</td>\n",
       "      <td>A121</td>\n",
       "      <td>67</td>\n",
       "      <td>A143</td>\n",
       "      <td>A152</td>\n",
       "      <td>2</td>\n",
       "      <td>A173</td>\n",
       "      <td>1</td>\n",
       "      <td>A192</td>\n",
       "      <td>A201</td>\n",
       "      <td>1</td>\n",
       "    </tr>\n",
       "  </tbody>\n",
       "</table>\n",
       "<p>1 rows × 21 columns</p>\n",
       "</div>"
      ],
      "text/plain": [
       "  Status.of.existing.checking.account  Duration.in.month Credit.history  \\\n",
       "0                                 A11                  6            A34   \n",
       "\n",
       "  Purpose  Credit.amount Savings.account.bonds Employment.years  \\\n",
       "0     A43           1169                   A65              A75   \n",
       "\n",
       "   Installment.rate.in.percentage.of.disposable.income  \\\n",
       "0                                                  4     \n",
       "\n",
       "  Personal.status.and.sex Other.debtors.guarantors  ...    Property  \\\n",
       "0                     A93                     A101  ...        A121   \n",
       "\n",
       "  Age.in.years  Other.installment.plans Housing  \\\n",
       "0           67                     A143    A152   \n",
       "\n",
       "  Number.of.existing.credits.at.this.bank   Job  \\\n",
       "0                                       2  A173   \n",
       "\n",
       "  Number.of.people.being.liable.to.provide.maintenance.for  Telephone  \\\n",
       "0                                                  1             A192   \n",
       "\n",
       "  Foreign.worker Status  \n",
       "0           A201      1  \n",
       "\n",
       "[1 rows x 21 columns]"
      ]
     },
     "execution_count": 3,
     "metadata": {},
     "output_type": "execute_result"
    }
   ],
   "source": [
    "url = \"https://archive.ics.uci.edu/ml/machine-learning-databases/statlog/german/german.data\"\n",
    "feature_name = ['Status of existing checking account', 'Duration in month', 'Credit history'\n",
    ", 'Purpose', 'Credit amount', 'Savings account.bonds', 'Employment years'\n",
    ", 'Installment rate in percentage of disposable income'\n",
    ", 'Personal status and sex', 'Other debtors.guarantors', 'Present residence since'\n",
    ", 'Property', 'Age in years', 'Other installment plans', 'Housing', 'Number of existing credits at this bank'\n",
    ", 'Job', 'Number of people being liable to provide maintenance for', 'Telephone', 'Foreign worker', 'Status']\n",
    "\n",
    "f_n = [f.replace(' ', '.') for f in feature_name]\n",
    "input_data = pd.read_csv(url, sep=' ', names=f_n)\n",
    "input_data.head(1)"
   ]
  },
  {
   "cell_type": "code",
   "execution_count": 4,
   "metadata": {
    "_datascience": {},
    "collapsed": true
   },
   "outputs": [],
   "source": [
    "deployed_model_uri = \"http://datsci.dev:8000/predict\""
   ]
  },
  {
   "cell_type": "code",
   "execution_count": 5,
   "metadata": {
    "_datascience": {},
    "collapsed": false
   },
   "outputs": [
    {
     "name": "stdout",
     "output_type": "stream",
     "text": [
      "  Status.of.existing.checking.account  Duration.in.month Credit.history  \\\n",
      "0                                 A11                  6            A34   \n",
      "1                                 A12                 48            A32   \n",
      "\n",
      "  Savings.account.bonds  \n",
      "0                   A65  \n",
      "1                   A61  \n",
      "<class 'pandas.core.frame.DataFrame'>\n"
     ]
    }
   ],
   "source": [
    "# Filter on the features as needed by the model\n",
    "selected_input_data = input_data[['Status.of.existing.checking.account', 'Duration.in.month', 'Credit.history', \n",
    "                                  'Savings.account.bonds']]\n",
    "#print(type(selected_input_data.values))\n",
    "print(selected_input_data.head(2))\n",
    "#input_formatter(selected_input_data.values)\n",
    "print(type(selected_input_data))"
   ]
  },
  {
   "cell_type": "code",
   "execution_count": 6,
   "metadata": {
    "_datascience": {},
    "collapsed": false
   },
   "outputs": [
    {
     "name": "stdout",
     "output_type": "stream",
     "text": [
      "[{\"Status.of.existing.checking.account\":\"A11\",\"Duration.in.month\":6,\"Credit.history\":\"A34\",\"Savings.account.bonds\":\"A65\"},{\"Status.of.existing.checking.account\":\"A12\",\"Duration.in.month\":48,\"Credit.history\":\"A32\",\"Savings.account.bonds\":\"A61\"},{\"Status.of.existing.checking.account\":\"A14\",\"Duration.in.month\":12,\"Credit.history\":\"A34\",\"Savings.account.bonds\":\"A61\"},{\"Status.of.existing.checking.account\":\"A11\",\"Duration.in.month\":42,\"Credit.history\":\"A32\",\"Savings.account.bonds\":\"A61\"},{\"Status.of.existing.checking.account\":\"A11\",\"Duration.in.month\":24,\"Credit.history\":\"A33\",\"Savings.account.bonds\":\"A61\"}]\n"
     ]
    }
   ],
   "source": [
    "# Convert the dataframe to the following the required format:\n",
    "input_data = input_formatter(selected_input_data.head(5))\n",
    "print(input_data['input'])"
   ]
  },
  {
   "cell_type": "code",
   "execution_count": 7,
   "metadata": {
    "_datascience": {},
    "collapsed": false
   },
   "outputs": [],
   "source": [
    "dep_model = DeployedModel(deployed_model_uri,\n",
    "                         input_formatter,\n",
    "                         output_formatter,\n",
    "                         examples=selected_input_data.head(5))"
   ]
  },
  {
   "cell_type": "code",
   "execution_count": 8,
   "metadata": {
    "_datascience": {},
    "collapsed": false,
    "scrolled": false
   },
   "outputs": [
    {
     "name": "stderr",
     "output_type": "stream",
     "text": [
      "2017-05-02 23:27:36,433 - skate.core.explanations - INFO - Loading Data\n",
      "2017-05-02 23:27:36,435 - skate.data.dataset - DEBUG - __init__ data.shape: (5, 4)\n",
      "2017-05-02 23:27:36,435 - skate.data.dataset - DEBUG - after transform data.shape: (5, 4)\n",
      "2017-05-02 23:27:36,440 - skate.core.explanations - INFO - Data loaded\n",
      "2017-05-02 23:27:36,440 - skate.core.explanations - DEBUG - Data shape: (5, 4)\n",
      "2017-05-02 23:27:36,441 - skate.core.explanations - DEBUG - Dataset Feature_ids: ['Status.of.existing.checking.account', 'Duration.in.month', 'Credit.history', 'Savings.account.bonds']\n",
      "2017-05-02 23:27:36,446 - skate.data.dataset - INFO - Generated grid of shape [(1, 3)]\n",
      "2017-05-02 23:27:36,447 - skate.core.explanations - DEBUG - Grid shape used for pdp: (1, 3)\n",
      "2017-05-02 23:27:36,447 - skate.core.explanations - DEBUG - Grid resolution for pdp: 10\n",
      "2017-05-02 23:27:36,448 - skate.data.dataset - DEBUG - Generating sample with args:\n",
      " {'n_samples_from_dataset': 500, 'replace': True, 'sample': True, 'samples_per_bin': 10, 'strategy': 'random-choice', 'bin_count': 50}\n",
      "2017-05-02 23:27:36,450 - skate.core.explanations - DEBUG - Shape of sampled data: (500, 4)\n",
      "2017-05-02 23:27:36,450 - skate.core.explanations - DEBUG - Feature Ids: ['Status.of.existing.checking.account']\n",
      "2017-05-02 23:27:36,451 - skate.core.explanations - DEBUG - PD metadata: {'data_feature_ids': ['Status.of.existing.checking.account', 'Duration.in.month', 'Credit.history', 'Savings.account.bonds'], 'class_columns': ['Predicted Value'], 'feature_columns': ['Status.of.existing.checking.account'], 'feature_ids': ['Status.of.existing.checking.account'], 'sd_column': 'sd'}\n",
      "2017-05-02 23:27:36,611 - skate.core.explanations - INFO - done computing pd, now plotting ...\n",
      "2017-05-02 23:27:36,676 - skate.data.dataset - INFO - Generated grid of shape [(1, 5)]\n",
      "2017-05-02 23:27:36,676 - skate.core.explanations - DEBUG - Grid shape used for pdp: (1, 5)\n",
      "2017-05-02 23:27:36,677 - skate.core.explanations - DEBUG - Grid resolution for pdp: 10\n",
      "2017-05-02 23:27:36,677 - skate.data.dataset - DEBUG - Generating sample with args:\n",
      " {'n_samples_from_dataset': 500, 'replace': True, 'sample': True, 'samples_per_bin': 10, 'strategy': 'random-choice', 'bin_count': 50}\n",
      "2017-05-02 23:27:36,679 - skate.core.explanations - DEBUG - Shape of sampled data: (500, 4)\n",
      "2017-05-02 23:27:36,679 - skate.core.explanations - DEBUG - Feature Ids: ['Duration.in.month']\n",
      "2017-05-02 23:27:36,680 - skate.core.explanations - DEBUG - PD metadata: {'data_feature_ids': ['Status.of.existing.checking.account', 'Duration.in.month', 'Credit.history', 'Savings.account.bonds'], 'class_columns': ['Predicted Value'], 'feature_columns': ['Duration.in.month'], 'feature_ids': ['Duration.in.month'], 'sd_column': 'sd'}\n",
      "2017-05-02 23:27:36,913 - skate.core.explanations - INFO - done computing pd, now plotting ...\n",
      "2017-05-02 23:27:36,984 - skate.data.dataset - INFO - Generated grid of shape [(1, 3)]\n",
      "2017-05-02 23:27:36,985 - skate.core.explanations - DEBUG - Grid shape used for pdp: (1, 3)\n",
      "2017-05-02 23:27:36,985 - skate.core.explanations - DEBUG - Grid resolution for pdp: 10\n",
      "2017-05-02 23:27:36,986 - skate.data.dataset - DEBUG - Generating sample with args:\n",
      " {'n_samples_from_dataset': 500, 'replace': True, 'sample': True, 'samples_per_bin': 10, 'strategy': 'random-choice', 'bin_count': 50}\n",
      "2017-05-02 23:27:36,987 - skate.core.explanations - DEBUG - Shape of sampled data: (500, 4)\n",
      "2017-05-02 23:27:36,987 - skate.core.explanations - DEBUG - Feature Ids: ['Credit.history']\n",
      "2017-05-02 23:27:36,988 - skate.core.explanations - DEBUG - PD metadata: {'data_feature_ids': ['Status.of.existing.checking.account', 'Duration.in.month', 'Credit.history', 'Savings.account.bonds'], 'class_columns': ['Predicted Value'], 'feature_columns': ['Credit.history'], 'feature_ids': ['Credit.history'], 'sd_column': 'sd'}\n",
      "2017-05-02 23:27:37,216 - skate.core.explanations - INFO - done computing pd, now plotting ...\n",
      "2017-05-02 23:27:37,279 - skate.data.dataset - INFO - Generated grid of shape [(1, 2)]\n",
      "2017-05-02 23:27:37,280 - skate.core.explanations - DEBUG - Grid shape used for pdp: (1, 2)\n",
      "2017-05-02 23:27:37,281 - skate.core.explanations - DEBUG - Grid resolution for pdp: 10\n",
      "2017-05-02 23:27:37,281 - skate.data.dataset - DEBUG - Generating sample with args:\n",
      " {'n_samples_from_dataset': 500, 'replace': True, 'sample': True, 'samples_per_bin': 10, 'strategy': 'random-choice', 'bin_count': 50}\n",
      "2017-05-02 23:27:37,282 - skate.core.explanations - DEBUG - Shape of sampled data: (500, 4)\n",
      "2017-05-02 23:27:37,283 - skate.core.explanations - DEBUG - Feature Ids: ['Savings.account.bonds']\n",
      "2017-05-02 23:27:37,283 - skate.core.explanations - DEBUG - PD metadata: {'data_feature_ids': ['Status.of.existing.checking.account', 'Duration.in.month', 'Credit.history', 'Savings.account.bonds'], 'class_columns': ['Predicted Value'], 'feature_columns': ['Savings.account.bonds'], 'feature_ids': ['Savings.account.bonds'], 'sd_column': 'sd'}\n",
      "2017-05-02 23:27:37,415 - skate.core.explanations - INFO - done computing pd, now plotting ...\n"
     ]
    },
    {
     "data": {
      "text/plain": [
       "[[<matplotlib.figure.Figure at 0x7f87450f0d10>,\n",
       "  <matplotlib.axes._subplots.AxesSubplot at 0x7f87450fd4d0>],\n",
       " [<matplotlib.figure.Figure at 0x7f87440d6190>,\n",
       "  <matplotlib.axes._subplots.AxesSubplot at 0x7f8744060c10>],\n",
       " [<matplotlib.figure.Figure at 0x7f873f701e50>,\n",
       "  <matplotlib.axes._subplots.AxesSubplot at 0x7f873f713cd0>],\n",
       " [<matplotlib.figure.Figure at 0x7f873f701490>,\n",
       "  <matplotlib.axes._subplots.AxesSubplot at 0x7f873f658490>]]"
      ]
     },
     "execution_count": 8,
     "metadata": {},
     "output_type": "execute_result"
    },
    {
     "name": "stderr",
     "output_type": "stream",
     "text": [
      "/usr/local/lib/python2.7/dist-packages/matplotlib/font_manager.py:1297: UserWarning: findfont: Font family [u'sans-serif'] not found. Falling back to DejaVu Sans\n",
      "  (prop.get_family(), self.defaultFamily[fontext]))\n"
     ]
    },
    {
     "data": {
      "image/png": "[encoded data removed]",
      "text/plain": [
       "<matplotlib.figure.Figure at 0x7f87450f0d10>"
      ]
     },
     "metadata": {},
     "output_type": "display_data"
    },
    {
     "data": {
      "image/png": "[encoded data removed]",
      "text/plain": [
       "<matplotlib.figure.Figure at 0x7f87440d6190>"
      ]
     },
     "metadata": {},
     "output_type": "display_data"
    },
    {
     "data": {
      "image/png": "[encoded data removed]",
      "text/plain": [
       "<matplotlib.figure.Figure at 0x7f873f701e50>"
      ]
     },
     "metadata": {},
     "output_type": "display_data"
    },
    {
     "data": {
      "image/png": "[encoded data removed]",
      "text/plain": [
       "<matplotlib.figure.Figure at 0x7f873f701490>"
      ]
     },
     "metadata": {},
     "output_type": "display_data"
    }
   ],
   "source": [
    "feature_names = np.array(selected_input_data.columns)\n",
    "interpreter = Interpretation(log_level=10)\n",
    "interpreter.load_data(selected_input_data.head(5), feature_names=feature_names)\n",
    "\n",
    "interpreter.partial_dependence.plot_partial_dependence(interpreter.data_set.feature_ids,\n",
    "                                                         dep_model,\n",
    "                                                         with_variance=False, \n",
    "                                                         sampling_strategy='random-choice',\n",
    "                                                         n_jobs=4, grid_resolution=10, n_samples = 500, sample=True)"
   ]
  },
  {
   "cell_type": "code",
   "execution_count": 9,
   "metadata": {
    "_datascience": {},
    "collapsed": false
   },
   "outputs": [
    {
     "data": {
      "text/plain": [
       "{'Credit.history': {'numeric': False, 'type': dtype('O'), 'unique': 3},\n",
       " 'Duration.in.month': {'numeric': True, 'type': dtype('int64'), 'unique': 5},\n",
       " 'Savings.account.bonds': {'numeric': False, 'type': dtype('O'), 'unique': 2},\n",
       " 'Status.of.existing.checking.account': {'numeric': False,\n",
       "  'type': dtype('O'),\n",
       "  'unique': 3}}"
      ]
     },
     "execution_count": 9,
     "metadata": {},
     "output_type": "execute_result"
    }
   ],
   "source": [
    "interpreter.data_set.feature_info"
   ]
  },
  {
   "cell_type": "code",
   "execution_count": 10,
   "metadata": {
    "_datascience": {},
    "collapsed": false
   },
   "outputs": [
    {
     "data": {
      "image/png": "[encoded data removed]",
      "text/plain": [
       "<matplotlib.figure.Figure at 0x7f877a8bf0d0>"
      ]
     },
     "metadata": {},
     "output_type": "display_data"
    }
   ],
   "source": [
    "f_2_1 = 'Savings.account.bonds'\n",
    "f_3_1 = 'Credit.history'\n",
    "f_3_2 = 'Status.of.existing.checking.account'\n",
    "f_cont_1 = \"Duration.in.month\"\n",
    "\n",
    "import matplotlib.pyplot as plt\n",
    "f, ax = plt.subplots(1)\n",
    "# ax.errorbar?"
   ]
  },
  {
   "cell_type": "code",
   "execution_count": 11,
   "metadata": {
    "_datascience": {},
    "collapsed": false
   },
   "outputs": [
    {
     "name": "stderr",
     "output_type": "stream",
     "text": [
      "2017-05-02 23:27:38,702 - skate.data.dataset - INFO - Generated grid of shape [(1, 3)]\n",
      "2017-05-02 23:27:38,703 - skate.core.explanations - DEBUG - Grid shape used for pdp: (1, 3)\n",
      "2017-05-02 23:27:38,706 - skate.core.explanations - DEBUG - Grid resolution for pdp: 10\n",
      "2017-05-02 23:27:38,708 - skate.data.dataset - DEBUG - Generating sample with args:\n",
      " {'n_samples_from_dataset': 500, 'replace': True, 'sample': True, 'samples_per_bin': 10, 'strategy': 'random-choice', 'bin_count': 50}\n",
      "2017-05-02 23:27:38,709 - skate.core.explanations - DEBUG - Shape of sampled data: (500, 4)\n",
      "2017-05-02 23:27:38,710 - skate.core.explanations - DEBUG - Feature Ids: ['Status.of.existing.checking.account']\n",
      "2017-05-02 23:27:38,711 - skate.core.explanations - DEBUG - PD metadata: {'data_feature_ids': ['Status.of.existing.checking.account', 'Duration.in.month', 'Credit.history', 'Savings.account.bonds'], 'class_columns': ['Predicted Value'], 'feature_columns': ['Status.of.existing.checking.account'], 'feature_ids': ['Status.of.existing.checking.account'], 'sd_column': 'sd'}\n",
      "2017-05-02 23:27:38,985 - skate.core.explanations - INFO - done computing pd, now plotting ...\n"
     ]
    },
    {
     "data": {
      "image/png": "[encoded data removed]",
      "text/plain": [
       "<matplotlib.figure.Figure at 0x7f873e2c9550>"
      ]
     },
     "metadata": {},
     "output_type": "display_data"
    }
   ],
   "source": [
    "pdp = interpreter.partial_dependence.plot_partial_dependence([f_3_2],\n",
    "                                                         dep_model,\n",
    "                                                             with_variance=True,\n",
    "                                                         sampling_strategy='random-choice',\n",
    "                                                         n_jobs=4, grid_resolution=10, n_samples = 500, sample=True)"
   ]
  },
  {
   "cell_type": "code",
   "execution_count": 12,
   "metadata": {
    "_datascience": {},
    "collapsed": false
   },
   "outputs": [
    {
     "data": {
      "text/plain": [
       "{'Credit.history': {'numeric': False, 'type': dtype('O'), 'unique': 3},\n",
       " 'Duration.in.month': {'numeric': True, 'type': dtype('int64'), 'unique': 5},\n",
       " 'Savings.account.bonds': {'numeric': False, 'type': dtype('O'), 'unique': 2},\n",
       " 'Status.of.existing.checking.account': {'numeric': False,\n",
       "  'type': dtype('O'),\n",
       "  'unique': 3}}"
      ]
     },
     "execution_count": 12,
     "metadata": {},
     "output_type": "execute_result"
    }
   ],
   "source": []
  },
  {
   "cell_type": "code",
   "execution_count": 34,
   "metadata": {
    "_datascience": {},
    "collapsed": false,
    "scrolled": false
   },
   "outputs": [
    {
     "ename": "TypeError",
     "evalue": "partial_dependence() got an unexpected keyword argument 'with_variance'",
     "output_type": "error",
     "traceback": [
      "\u001b[1;31m---------------------------------------------------------------------------\u001b[0m",
      "\u001b[1;31mTypeError\u001b[0m                                 Traceback (most recent call last)",
      "\u001b[1;32m<ipython-input-34-ecb33908ed04>\u001b[0m in \u001b[0;36m<module>\u001b[1;34m()\u001b[0m\n\u001b[0;32m      3\u001b[0m                                                              \u001b[0mwith_variance\u001b[0m\u001b[1;33m=\u001b[0m\u001b[0mTrue\u001b[0m\u001b[1;33m,\u001b[0m\u001b[1;33m\u001b[0m\u001b[0m\n\u001b[0;32m      4\u001b[0m                                                          \u001b[0msampling_strategy\u001b[0m\u001b[1;33m=\u001b[0m\u001b[1;34m'random-choice'\u001b[0m\u001b[1;33m,\u001b[0m\u001b[1;33m\u001b[0m\u001b[0m\n\u001b[1;32m----> 5\u001b[1;33m                                                          n_jobs=4, grid_resolution=10, n_samples = 500, sample=True)\n\u001b[0m",
      "\u001b[1;31mTypeError\u001b[0m: partial_dependence() got an unexpected keyword argument 'with_variance'"
     ]
    }
   ],
   "source": [
    "pdp = interpreter.partial_dependence.partial_dependence([(f_2_1, 'Duration.in.month')],\n",
    "                                                         dep_model,\n",
    "                                                             #with_variance=True,\n",
    "                                                         sampling_strategy='random-choice',\n",
    "                                                         n_jobs=4, grid_resolution=10, n_samples = 500, sample=True)"
   ]
  },
  {
   "cell_type": "code",
   "execution_count": 73,
   "metadata": {
    "_datascience": {},
    "collapsed": false
   },
   "outputs": [
    {
     "data": {
      "text/plain": [
       "(10, 2)"
      ]
     },
     "execution_count": 73,
     "metadata": {},
     "output_type": "execute_result"
    }
   ],
   "source": [
    "pd.DataFrame(list(product(*grid2))).values"
   ]
  },
  {
   "cell_type": "code",
   "execution_count": 64,
   "metadata": {
    "_datascience": {},
    "collapsed": false
   },
   "outputs": [
    {
     "ename": "ValueError",
     "evalue": "Setting void-array with object members using buffer.",
     "output_type": "error",
     "traceback": [
      "\u001b[1;31m---------------------------------------------------------------------------\u001b[0m",
      "\u001b[1;31mValueError\u001b[0m                                Traceback (most recent call last)",
      "\u001b[1;32m<ipython-input-64-22ffb33cf639>\u001b[0m in \u001b[0;36m<module>\u001b[1;34m()\u001b[0m\n\u001b[0;32m      2\u001b[0m \u001b[0mn\u001b[0m \u001b[1;33m=\u001b[0m \u001b[0mnp\u001b[0m\u001b[1;33m.\u001b[0m\u001b[0mzeros\u001b[0m\u001b[1;33m(\u001b[0m\u001b[1;33m(\u001b[0m\u001b[1;36m0\u001b[0m\u001b[1;33m)\u001b[0m\u001b[1;33m,\u001b[0m \u001b[0mdtype\u001b[0m\u001b[1;33m=\u001b[0m\u001b[0mdtype\u001b[0m\u001b[1;33m)\u001b[0m\u001b[1;33m\u001b[0m\u001b[0m\n\u001b[0;32m      3\u001b[0m \u001b[1;32mfor\u001b[0m \u001b[0mrow\u001b[0m \u001b[1;32min\u001b[0m \u001b[0mlist\u001b[0m\u001b[1;33m(\u001b[0m\u001b[0mproduct\u001b[0m\u001b[1;33m(\u001b[0m\u001b[1;33m*\u001b[0m\u001b[0mgrid2\u001b[0m\u001b[1;33m)\u001b[0m\u001b[1;33m)\u001b[0m\u001b[1;33m:\u001b[0m\u001b[1;33m\u001b[0m\u001b[0m\n\u001b[1;32m----> 4\u001b[1;33m     \u001b[0mn\u001b[0m \u001b[1;33m=\u001b[0m \u001b[0mnp\u001b[0m\u001b[1;33m.\u001b[0m\u001b[0mappend\u001b[0m\u001b[1;33m(\u001b[0m\u001b[0mn\u001b[0m\u001b[1;33m,\u001b[0m \u001b[0mnp\u001b[0m\u001b[1;33m.\u001b[0m\u001b[0marray\u001b[0m\u001b[1;33m(\u001b[0m\u001b[0mlist\u001b[0m\u001b[1;33m(\u001b[0m\u001b[0mrow\u001b[0m\u001b[1;33m)\u001b[0m\u001b[1;33m,\u001b[0m \u001b[0mdtype\u001b[0m\u001b[1;33m=\u001b[0m\u001b[0mdtype\u001b[0m\u001b[1;33m)\u001b[0m\u001b[1;33m)\u001b[0m\u001b[1;33m\u001b[0m\u001b[0m\n\u001b[0m\u001b[0;32m      5\u001b[0m \u001b[1;33m\u001b[0m\u001b[0m\n\u001b[0;32m      6\u001b[0m \u001b[0mnp\u001b[0m\u001b[1;33m.\u001b[0m\u001b[0marray\u001b[0m\u001b[1;33m(\u001b[0m\u001b[0mn\u001b[0m\u001b[1;33m)\u001b[0m\u001b[1;33m\u001b[0m\u001b[0m\n",
      "\u001b[1;31mValueError\u001b[0m: Setting void-array with object members using buffer."
     ]
    }
   ],
   "source": [
    "dtype='i4, object'\n",
    "n = np.zeros((0), dtype=dtype)\n",
    "for row in list(product(*grid2)):\n",
    "    n = np.append(n, np.array(list(row), dtype=dtype))\n",
    "    \n",
    "np.array(n)"
   ]
  },
  {
   "cell_type": "code",
   "execution_count": 52,
   "metadata": {
    "_datascience": {},
    "collapsed": false
   },
   "outputs": [
    {
     "name": "stdout",
     "output_type": "stream",
     "text": [
      "(5, 1)\n",
      "(10, 2)\n"
     ]
    },
    {
     "data": {
      "text/plain": [
       "array([( 6, 'A61'), ( 6, 'A65'), (12, 'A61'), (12, 'A65'), (24, 'A61'),\n",
       "       (24, 'A65'), (42, 'A61'), (42, 'A65'), (48, 'A61'), (48, 'A65')], \n",
       "      dtype=[('f0', '<i4'), ('f1', 'O')])"
      ]
     },
     "execution_count": 52,
     "metadata": {},
     "output_type": "execute_result"
    }
   ],
   "source": [
    "print(np.array(list(product(*grid1))).shape)\n",
    "print(np.array(list(product(*grid2))).shape)\n",
    "\n",
    "np.array(list(product(*grid2)), dtype='i4, object')"
   ]
  },
  {
   "cell_type": "code",
   "execution_count": 48,
   "metadata": {
    "_datascience": {},
    "collapsed": false
   },
   "outputs": [
    {
     "name": "stderr",
     "output_type": "stream",
     "text": [
      "2017-05-02 23:44:17,375 - skate.data.dataset - INFO - Generated grid of shape [(1, 5)]\n",
      "2017-05-02 23:44:17,377 - skate.data.dataset - INFO - Generated grid of shape [(1, 5), (1, 2)]\n"
     ]
    },
    {
     "data": {
      "text/plain": [
       "(10,)"
      ]
     },
     "execution_count": 48,
     "metadata": {},
     "output_type": "execute_result"
    }
   ],
   "source": [
    "from itertools import product\n",
    "grid1 = interpreter.data_set.generate_grid(['Duration.in.month'])#[0][0]\n",
    "grid2 = interpreter.data_set.generate_grid(['Duration.in.month','Savings.account.bonds'])#[0][0]\n",
    "\n",
    "np.array(list(product(*grid)), dtype='i4,object')"
   ]
  },
  {
   "cell_type": "code",
   "execution_count": 29,
   "metadata": {
    "_datascience": {},
    "collapsed": false
   },
   "outputs": [
    {
     "name": "stderr",
     "output_type": "stream",
     "text": [
      "2017-05-02 23:35:17,953 - skate.data.dataset - INFO - Generated grid of shape [(1, 5), (1, 2)]\n",
      "2017-05-02 23:35:17,955 - skate.core.explanations - DEBUG - Grid shape used for pdp: (2,)\n",
      "2017-05-02 23:35:17,955 - skate.core.explanations - DEBUG - Grid resolution for pdp: 30\n",
      "2017-05-02 23:35:17,956 - skate.data.dataset - DEBUG - Generating sample with args:\n",
      " {'n_samples_from_dataset': 10000, 'replace': True, 'sample': True, 'samples_per_bin': 10, 'strategy': 'random-choice', 'bin_count': 50}\n",
      "2017-05-02 23:35:17,962 - skate.core.explanations - DEBUG - Shape of sampled data: (10000, 4)\n",
      "2017-05-02 23:35:17,963 - skate.core.explanations - DEBUG - Feature Ids: ['Duration.in.month', 'Savings.account.bonds']\n",
      "2017-05-02 23:35:17,964 - skate.core.explanations - DEBUG - PD metadata: {'data_feature_ids': ['Status.of.existing.checking.account', 'Duration.in.month', 'Credit.history', 'Savings.account.bonds'], 'class_columns': ['Predicted Value'], 'feature_columns': ['Duration.in.month', 'Savings.account.bonds'], 'feature_ids': ['Duration.in.month', 'Savings.account.bonds'], 'sd_column': 'sd'}\n"
     ]
    },
    {
     "data": {
      "text/html": [
       "<div>\n",
       "<table border=\"1\" class=\"dataframe\">\n",
       "  <thead>\n",
       "    <tr style=\"text-align: right;\">\n",
       "      <th></th>\n",
       "      <th>Duration.in.month</th>\n",
       "      <th>Predicted Value</th>\n",
       "      <th>Savings.account.bonds</th>\n",
       "      <th>sd</th>\n",
       "    </tr>\n",
       "  </thead>\n",
       "  <tbody>\n",
       "    <tr>\n",
       "      <th>0</th>\n",
       "      <td>6</td>\n",
       "      <td>0.728228</td>\n",
       "      <td>A61</td>\n",
       "      <td>0.069137</td>\n",
       "    </tr>\n",
       "    <tr>\n",
       "      <th>1</th>\n",
       "      <td>6</td>\n",
       "      <td>0.728228</td>\n",
       "      <td>A65</td>\n",
       "      <td>0.069137</td>\n",
       "    </tr>\n",
       "    <tr>\n",
       "      <th>2</th>\n",
       "      <td>12</td>\n",
       "      <td>0.728228</td>\n",
       "      <td>A61</td>\n",
       "      <td>0.069137</td>\n",
       "    </tr>\n",
       "    <tr>\n",
       "      <th>3</th>\n",
       "      <td>12</td>\n",
       "      <td>0.728228</td>\n",
       "      <td>A65</td>\n",
       "      <td>0.069137</td>\n",
       "    </tr>\n",
       "    <tr>\n",
       "      <th>4</th>\n",
       "      <td>24</td>\n",
       "      <td>0.473365</td>\n",
       "      <td>A61</td>\n",
       "      <td>0.194574</td>\n",
       "    </tr>\n",
       "    <tr>\n",
       "      <th>5</th>\n",
       "      <td>24</td>\n",
       "      <td>0.738773</td>\n",
       "      <td>A65</td>\n",
       "      <td>0.063947</td>\n",
       "    </tr>\n",
       "    <tr>\n",
       "      <th>6</th>\n",
       "      <td>42</td>\n",
       "      <td>0.473365</td>\n",
       "      <td>A61</td>\n",
       "      <td>0.194574</td>\n",
       "    </tr>\n",
       "    <tr>\n",
       "      <th>7</th>\n",
       "      <td>42</td>\n",
       "      <td>0.738773</td>\n",
       "      <td>A65</td>\n",
       "      <td>0.063947</td>\n",
       "    </tr>\n",
       "    <tr>\n",
       "      <th>8</th>\n",
       "      <td>48</td>\n",
       "      <td>0.473365</td>\n",
       "      <td>A61</td>\n",
       "      <td>0.194574</td>\n",
       "    </tr>\n",
       "    <tr>\n",
       "      <th>9</th>\n",
       "      <td>48</td>\n",
       "      <td>0.738773</td>\n",
       "      <td>A65</td>\n",
       "      <td>0.063947</td>\n",
       "    </tr>\n",
       "  </tbody>\n",
       "</table>\n",
       "</div>"
      ],
      "text/plain": [
       "  Duration.in.month  Predicted Value Savings.account.bonds        sd\n",
       "0                 6         0.728228                   A61  0.069137\n",
       "1                 6         0.728228                   A65  0.069137\n",
       "2                12         0.728228                   A61  0.069137\n",
       "3                12         0.728228                   A65  0.069137\n",
       "4                24         0.473365                   A61  0.194574\n",
       "5                24         0.738773                   A65  0.063947\n",
       "6                42         0.473365                   A61  0.194574\n",
       "7                42         0.738773                   A65  0.063947\n",
       "8                48         0.473365                   A61  0.194574\n",
       "9                48         0.738773                   A65  0.063947"
      ]
     },
     "execution_count": 29,
     "metadata": {},
     "output_type": "execute_result"
    }
   ],
   "source": [
    "df = interpreter.partial_dependence.partial_dependence(['Duration.in.month','Savings.account.bonds'], dep_model)\n",
    "df"
   ]
  },
  {
   "cell_type": "code",
   "execution_count": 15,
   "metadata": {
    "_datascience": {},
    "collapsed": false
   },
   "outputs": [
    {
     "data": {
      "text/html": [
       "<div>\n",
       "<table border=\"1\" class=\"dataframe\">\n",
       "  <thead>\n",
       "    <tr style=\"text-align: right;\">\n",
       "      <th>Status.of.existing.checking.account</th>\n",
       "      <th>A11</th>\n",
       "      <th>A12</th>\n",
       "      <th>A14</th>\n",
       "    </tr>\n",
       "    <tr>\n",
       "      <th>Savings.account.bonds</th>\n",
       "      <th></th>\n",
       "      <th></th>\n",
       "      <th></th>\n",
       "    </tr>\n",
       "  </thead>\n",
       "  <tbody>\n",
       "    <tr>\n",
       "      <th>A61</th>\n",
       "      <td>0.506140</td>\n",
       "      <td>0.506140</td>\n",
       "      <td>0.8687</td>\n",
       "    </tr>\n",
       "    <tr>\n",
       "      <th>A65</th>\n",
       "      <td>0.701981</td>\n",
       "      <td>0.701981</td>\n",
       "      <td>0.8687</td>\n",
       "    </tr>\n",
       "  </tbody>\n",
       "</table>\n",
       "</div>"
      ],
      "text/plain": [
       "Status.of.existing.checking.account       A11       A12     A14\n",
       "Savings.account.bonds                                          \n",
       "A61                                  0.506140  0.506140  0.8687\n",
       "A65                                  0.701981  0.701981  0.8687"
      ]
     },
     "execution_count": 15,
     "metadata": {},
     "output_type": "execute_result"
    }
   ],
   "source": [
    "pdp.set_index([f_2_1, f_3_2])['Predicted Value'].unstack()"
   ]
  },
  {
   "cell_type": "code",
   "execution_count": 20,
   "metadata": {
    "_datascience": {},
    "collapsed": false
   },
   "outputs": [
    {
     "data": {
      "text/html": [
       "<div>\n",
       "<table border=\"1\" class=\"dataframe\">\n",
       "  <thead>\n",
       "    <tr style=\"text-align: right;\">\n",
       "      <th>Status.of.existing.checking.account</th>\n",
       "      <th>A11</th>\n",
       "      <th>A12</th>\n",
       "      <th>A14</th>\n",
       "    </tr>\n",
       "    <tr>\n",
       "      <th>Savings.account.bonds</th>\n",
       "      <th></th>\n",
       "      <th></th>\n",
       "      <th></th>\n",
       "    </tr>\n",
       "  </thead>\n",
       "  <tbody>\n",
       "    <tr>\n",
       "      <th>A61</th>\n",
       "      <td>0.155477</td>\n",
       "      <td>0.155477</td>\n",
       "      <td>2.220446e-16</td>\n",
       "    </tr>\n",
       "    <tr>\n",
       "      <th>A65</th>\n",
       "      <td>0.006433</td>\n",
       "      <td>0.006433</td>\n",
       "      <td>2.220446e-16</td>\n",
       "    </tr>\n",
       "  </tbody>\n",
       "</table>\n",
       "</div>"
      ],
      "text/plain": [
       "Status.of.existing.checking.account       A11       A12           A14\n",
       "Savings.account.bonds                                                \n",
       "A61                                  0.155477  0.155477  2.220446e-16\n",
       "A65                                  0.006433  0.006433  2.220446e-16"
      ]
     },
     "execution_count": 20,
     "metadata": {},
     "output_type": "execute_result"
    }
   ],
   "source": [
    "std_err"
   ]
  },
  {
   "cell_type": "code",
   "execution_count": 18,
   "metadata": {
    "_datascience": {},
    "collapsed": false
   },
   "outputs": [
    {
     "data": {
      "text/plain": [
       "<matplotlib.axes._subplots.AxesSubplot at 0x7f54c3a832d0>"
      ]
     },
     "execution_count": 18,
     "metadata": {},
     "output_type": "execute_result"
    },
    {
     "data": {
      "image/png": "[encoded data removed]",
      "text/plain": [
       "<matplotlib.figure.Figure at 0x7f54c3a97390>"
      ]
     },
     "metadata": {},
     "output_type": "display_data"
    }
   ],
   "source": [
    "plot_data.plot(kind='bar',yerr=std_err)"
   ]
  },
  {
   "cell_type": "code",
   "execution_count": 14,
   "metadata": {
    "_datascience": {},
    "collapsed": false
   },
   "outputs": [
    {
     "data": {
      "image/png": "[encoded data removed]",
      "text/plain": [
       "<matplotlib.figure.Figure at 0x7f54c3b44f10>"
      ]
     },
     "metadata": {},
     "output_type": "display_data"
    }
   ],
   "source": [
    "plot_data, std_err = interpreter.partial_dependence._plot_2d_2_categorical_features_bar(pdp, f_2_1, f_3_2, 'sd',['Predicted Value'])"
   ]
  },
  {
   "cell_type": "code",
   "execution_count": 14,
   "metadata": {
    "_datascience": {},
    "collapsed": false
   },
   "outputs": [
    {
     "data": {
      "text/html": [
       "<div>\n",
       "<table border=\"1\" class=\"dataframe\">\n",
       "  <thead>\n",
       "    <tr style=\"text-align: right;\">\n",
       "      <th>Status.of.existing.checking.account</th>\n",
       "      <th>A11</th>\n",
       "      <th>A12</th>\n",
       "      <th>A14</th>\n",
       "    </tr>\n",
       "    <tr>\n",
       "      <th>Savings.account.bonds</th>\n",
       "      <th></th>\n",
       "      <th></th>\n",
       "      <th></th>\n",
       "    </tr>\n",
       "  </thead>\n",
       "  <tbody>\n",
       "    <tr>\n",
       "      <th>A61</th>\n",
       "      <td>0.506140</td>\n",
       "      <td>0.506140</td>\n",
       "      <td>0.8687</td>\n",
       "    </tr>\n",
       "    <tr>\n",
       "      <th>A65</th>\n",
       "      <td>0.701981</td>\n",
       "      <td>0.701981</td>\n",
       "      <td>0.8687</td>\n",
       "    </tr>\n",
       "  </tbody>\n",
       "</table>\n",
       "</div>"
      ],
      "text/plain": [
       "Status.of.existing.checking.account       A11       A12     A14\n",
       "Savings.account.bonds                                          \n",
       "A61                                  0.506140  0.506140  0.8687\n",
       "A65                                  0.701981  0.701981  0.8687"
      ]
     },
     "execution_count": 14,
     "metadata": {},
     "output_type": "execute_result"
    }
   ],
   "source": [
    "plot_data.plot"
   ]
  },
  {
   "cell_type": "code",
   "execution_count": 12,
   "metadata": {
    "_datascience": {},
    "collapsed": false,
    "scrolled": false
   },
   "outputs": [
    {
     "name": "stderr",
     "output_type": "stream",
     "text": [
      "2017-05-02 22:34:55,243 - skate.data.dataset - INFO - Generated grid of shape [(1, 2), (1, 3)]\n",
      "2017-05-02 22:34:55,244 - skate.core.explanations - DEBUG - Grid shape used for pdp: (2,)\n",
      "2017-05-02 22:34:55,244 - skate.core.explanations - DEBUG - Grid resolution for pdp: 10\n",
      "2017-05-02 22:34:55,245 - skate.data.dataset - DEBUG - Generating sample with args:\n",
      " {'n_samples_from_dataset': 500, 'replace': True, 'sample': True, 'samples_per_bin': 10, 'strategy': 'random-choice', 'bin_count': 50}\n",
      "2017-05-02 22:34:55,251 - skate.core.explanations - DEBUG - Shape of sampled data: (500, 4)\n",
      "2017-05-02 22:34:55,251 - skate.core.explanations - DEBUG - Feature Ids: ('Savings.account.bonds', 'Status.of.existing.checking.account')\n",
      "2017-05-02 22:34:55,252 - skate.core.explanations - DEBUG - PD metadata: {'data_feature_ids': ['Status.of.existing.checking.account', 'Duration.in.month', 'Credit.history', 'Savings.account.bonds'], 'class_columns': ['Predicted Value'], 'feature_columns': ['Savings.account.bonds', 'Status.of.existing.checking.account'], 'feature_ids': ('Savings.account.bonds', 'Status.of.existing.checking.account'), 'sd_column': 'sd'}\n",
      "2017-05-02 22:34:55,700 - skate.core.explanations - INFO - done computing pd, now plotting ...\n",
      "2017-05-02 22:34:55,701 - skate.core.explanations - DEBUG - Both features are binary, so plotting groups\n"
     ]
    },
    {
     "name": "stdout",
     "output_type": "stream",
     "text": [
      "['A61' 'A65']\n",
      "[u'A61', u'A65']\n",
      "Status.of.existing.checking.account       A11       A12     A14\n",
      "Savings.account.bonds                                          \n",
      "A61                                  0.516271  0.516271  0.8687\n",
      "A65                                  0.701562  0.701562  0.8687\n"
     ]
    },
    {
     "ename": "TypeError",
     "evalue": "ufunc 'isfinite' not supported for the input types, and the inputs could not be safely coerced to any supported types according to the casting rule ''safe''",
     "output_type": "error",
     "traceback": [
      "\u001b[1;31m---------------------------------------------------------------------------\u001b[0m",
      "\u001b[1;31mTypeError\u001b[0m                                 Traceback (most recent call last)",
      "\u001b[1;32m<ipython-input-12-1bd342184fca>\u001b[0m in \u001b[0;36m<module>\u001b[1;34m()\u001b[0m\n\u001b[0;32m      3\u001b[0m                                                          \u001b[0mwith_variance\u001b[0m\u001b[1;33m=\u001b[0m\u001b[0mTrue\u001b[0m\u001b[1;33m,\u001b[0m\u001b[1;33m\u001b[0m\u001b[0m\n\u001b[0;32m      4\u001b[0m                                                          \u001b[0msampling_strategy\u001b[0m\u001b[1;33m=\u001b[0m\u001b[1;34m'random-choice'\u001b[0m\u001b[1;33m,\u001b[0m\u001b[1;33m\u001b[0m\u001b[0m\n\u001b[1;32m----> 5\u001b[1;33m                                                          n_jobs=4, grid_resolution=10, n_samples = 500, sample=True)\n\u001b[0m",
      "\u001b[1;32m/usr/local/lib/python2.7/dist-packages/skate-1.0.0b0-py2.7.egg/skate/core/global_interpretation/partial_dependence.pyc\u001b[0m in \u001b[0;36mplot_partial_dependence\u001b[1;34m(self, feature_ids, modelinstance, grid, grid_resolution, grid_range, n_jobs, sample, sampling_strategy, n_samples, bin_count, samples_per_bin, with_variance, figsize)\u001b[0m\n\u001b[0;32m    472\u001b[0m \u001b[1;33m\u001b[0m\u001b[0m\n\u001b[0;32m    473\u001b[0m                 \u001b[0mself\u001b[0m\u001b[1;33m.\u001b[0m\u001b[0minterpreter\u001b[0m\u001b[1;33m.\u001b[0m\u001b[0mlogger\u001b[0m\u001b[1;33m.\u001b[0m\u001b[0minfo\u001b[0m\u001b[1;33m(\u001b[0m\u001b[1;34m\"done computing pd, now plotting ...\"\u001b[0m\u001b[1;33m)\u001b[0m\u001b[1;33m\u001b[0m\u001b[0m\n\u001b[1;32m--> 474\u001b[1;33m                 \u001b[0max\u001b[0m \u001b[1;33m=\u001b[0m \u001b[0mself\u001b[0m\u001b[1;33m.\u001b[0m\u001b[0m_plot_pdp_from_df\u001b[0m\u001b[1;33m(\u001b[0m\u001b[0mpd_df\u001b[0m\u001b[1;33m,\u001b[0m \u001b[0mmetadata\u001b[0m\u001b[1;33m,\u001b[0m \u001b[0mwith_variance\u001b[0m\u001b[1;33m=\u001b[0m\u001b[0mwith_variance\u001b[0m\u001b[1;33m,\u001b[0m \u001b[0mfigsize\u001b[0m\u001b[1;33m=\u001b[0m\u001b[0mfigsize\u001b[0m\u001b[1;33m)\u001b[0m\u001b[1;33m\u001b[0m\u001b[0m\n\u001b[0m\u001b[0;32m    475\u001b[0m                 \u001b[0max_list\u001b[0m\u001b[1;33m.\u001b[0m\u001b[0mappend\u001b[0m\u001b[1;33m(\u001b[0m\u001b[0max\u001b[0m\u001b[1;33m)\u001b[0m\u001b[1;33m\u001b[0m\u001b[0m\n\u001b[0;32m    476\u001b[0m             \u001b[1;32mreturn\u001b[0m \u001b[0max_list\u001b[0m\u001b[1;33m\u001b[0m\u001b[0m\n",
      "\u001b[1;32m/usr/local/lib/python2.7/dist-packages/skate-1.0.0b0-py2.7.egg/skate/core/global_interpretation/partial_dependence.pyc\u001b[0m in \u001b[0;36m_plot_pdp_from_df\u001b[1;34m(self, pdp, pd_metadata, with_variance, plot_title, disable_offset, figsize)\u001b[0m\n\u001b[0;32m    504\u001b[0m                                      \u001b[0mwith_variance\u001b[0m\u001b[1;33m=\u001b[0m\u001b[0mwith_variance\u001b[0m\u001b[1;33m,\u001b[0m\u001b[1;33m\u001b[0m\u001b[0m\n\u001b[0;32m    505\u001b[0m                                      \u001b[0mplot_title\u001b[0m\u001b[1;33m=\u001b[0m\u001b[0mplot_title\u001b[0m\u001b[1;33m,\u001b[0m\u001b[1;33m\u001b[0m\u001b[0m\n\u001b[1;32m--> 506\u001b[1;33m                                      figsize=figsize)\n\u001b[0m\u001b[0;32m    507\u001b[0m         \u001b[1;32melse\u001b[0m\u001b[1;33m:\u001b[0m\u001b[1;33m\u001b[0m\u001b[0m\n\u001b[0;32m    508\u001b[0m             \u001b[0mmsg\u001b[0m \u001b[1;33m=\u001b[0m \u001b[1;34m\"Something went wrong. Expected either a single feature, \"\u001b[0m\u001b[0;31m \u001b[0m\u001b[0;31m\\\u001b[0m\u001b[1;33m\u001b[0m\u001b[0m\n",
      "\u001b[1;32m/usr/local/lib/python2.7/dist-packages/skate-1.0.0b0-py2.7.egg/skate/core/global_interpretation/partial_dependence.pyc\u001b[0m in \u001b[0;36m_3d_pdp_plot\u001b[1;34m(self, pdp, feature1, feature2, sd_column, class_columns, with_variance, plot_title, disable_offset, figsize)\u001b[0m\n\u001b[0;32m    601\u001b[0m                                                                 \u001b[0mclass_columns\u001b[0m\u001b[1;33m,\u001b[0m\u001b[1;33m\u001b[0m\u001b[0m\n\u001b[0;32m    602\u001b[0m                                                                 \u001b[0mwith_variance\u001b[0m\u001b[1;33m=\u001b[0m\u001b[0mwith_variance\u001b[0m\u001b[1;33m,\u001b[0m\u001b[1;33m\u001b[0m\u001b[0m\n\u001b[1;32m--> 603\u001b[1;33m                                                                 figsize=figsize)\n\u001b[0m\u001b[0;32m    604\u001b[0m         \u001b[1;32melse\u001b[0m\u001b[1;33m:\u001b[0m\u001b[1;33m\u001b[0m\u001b[0m\n\u001b[0;32m    605\u001b[0m             \u001b[1;31m# one feature is binary and one isnt.\u001b[0m\u001b[1;33m\u001b[0m\u001b[1;33m\u001b[0m\u001b[0m\n",
      "\u001b[1;32m/usr/local/lib/python2.7/dist-packages/skate-1.0.0b0-py2.7.egg/skate/core/global_interpretation/partial_dependence.pyc\u001b[0m in \u001b[0;36m_plot_2d_2_categorical_features_bar\u001b[1;34m(self, pdp, feature1, feature2, sd_col, class_columns, with_variance, figsize)\u001b[0m\n\u001b[0;32m    771\u001b[0m                     \u001b[0mlower_plane\u001b[0m \u001b[1;33m=\u001b[0m \u001b[0mplot_data\u001b[0m\u001b[1;33m[\u001b[0m\u001b[0mbinary2_value\u001b[0m\u001b[1;33m]\u001b[0m\u001b[1;33m.\u001b[0m\u001b[0mvalues\u001b[0m \u001b[1;33m-\u001b[0m \u001b[0myerr\u001b[0m\u001b[1;33m\u001b[0m\u001b[0m\n\u001b[0;32m    772\u001b[0m                     ax.fill_between(binary1_values, lower_plane, upper_plane,\n\u001b[1;32m--> 773\u001b[1;33m                                     color=color, alpha=.2)\n\u001b[0m\u001b[0;32m    774\u001b[0m             \u001b[0mfigure_list\u001b[0m\u001b[1;33m.\u001b[0m\u001b[0mappend\u001b[0m\u001b[1;33m(\u001b[0m\u001b[0mf\u001b[0m\u001b[1;33m)\u001b[0m\u001b[1;33m\u001b[0m\u001b[0m\n\u001b[0;32m    775\u001b[0m             \u001b[0maxis_list\u001b[0m\u001b[1;33m.\u001b[0m\u001b[0mappend\u001b[0m\u001b[1;33m(\u001b[0m\u001b[0max\u001b[0m\u001b[1;33m)\u001b[0m\u001b[1;33m\u001b[0m\u001b[0m\n",
      "\u001b[1;32m/usr/local/lib/python2.7/dist-packages/matplotlib/__init__.pyc\u001b[0m in \u001b[0;36minner\u001b[1;34m(ax, *args, **kwargs)\u001b[0m\n\u001b[0;32m   1890\u001b[0m                     warnings.warn(msg % (label_namer, func.__name__),\n\u001b[0;32m   1891\u001b[0m                                   RuntimeWarning, stacklevel=2)\n\u001b[1;32m-> 1892\u001b[1;33m             \u001b[1;32mreturn\u001b[0m \u001b[0mfunc\u001b[0m\u001b[1;33m(\u001b[0m\u001b[0max\u001b[0m\u001b[1;33m,\u001b[0m \u001b[1;33m*\u001b[0m\u001b[0margs\u001b[0m\u001b[1;33m,\u001b[0m \u001b[1;33m**\u001b[0m\u001b[0mkwargs\u001b[0m\u001b[1;33m)\u001b[0m\u001b[1;33m\u001b[0m\u001b[0m\n\u001b[0m\u001b[0;32m   1893\u001b[0m         \u001b[0mpre_doc\u001b[0m \u001b[1;33m=\u001b[0m \u001b[0minner\u001b[0m\u001b[1;33m.\u001b[0m\u001b[0m__doc__\u001b[0m\u001b[1;33m\u001b[0m\u001b[0m\n\u001b[0;32m   1894\u001b[0m         \u001b[1;32mif\u001b[0m \u001b[0mpre_doc\u001b[0m \u001b[1;32mis\u001b[0m \u001b[0mNone\u001b[0m\u001b[1;33m:\u001b[0m\u001b[1;33m\u001b[0m\u001b[0m\n",
      "\u001b[1;32m/usr/local/lib/python2.7/dist-packages/matplotlib/axes/_axes.pyc\u001b[0m in \u001b[0;36mfill_between\u001b[1;34m(self, x, y1, y2, where, interpolate, step, **kwargs)\u001b[0m\n\u001b[0;32m   4770\u001b[0m \u001b[1;33m\u001b[0m\u001b[0m\n\u001b[0;32m   4771\u001b[0m         \u001b[1;31m# Convert the arrays so we can work with them\u001b[0m\u001b[1;33m\u001b[0m\u001b[1;33m\u001b[0m\u001b[0m\n\u001b[1;32m-> 4772\u001b[1;33m         \u001b[0mx\u001b[0m \u001b[1;33m=\u001b[0m \u001b[0mma\u001b[0m\u001b[1;33m.\u001b[0m\u001b[0mmasked_invalid\u001b[0m\u001b[1;33m(\u001b[0m\u001b[0mself\u001b[0m\u001b[1;33m.\u001b[0m\u001b[0mconvert_xunits\u001b[0m\u001b[1;33m(\u001b[0m\u001b[0mx\u001b[0m\u001b[1;33m)\u001b[0m\u001b[1;33m)\u001b[0m\u001b[1;33m\u001b[0m\u001b[0m\n\u001b[0m\u001b[0;32m   4773\u001b[0m         \u001b[0my1\u001b[0m \u001b[1;33m=\u001b[0m \u001b[0mma\u001b[0m\u001b[1;33m.\u001b[0m\u001b[0mmasked_invalid\u001b[0m\u001b[1;33m(\u001b[0m\u001b[0mself\u001b[0m\u001b[1;33m.\u001b[0m\u001b[0mconvert_yunits\u001b[0m\u001b[1;33m(\u001b[0m\u001b[0my1\u001b[0m\u001b[1;33m)\u001b[0m\u001b[1;33m)\u001b[0m\u001b[1;33m\u001b[0m\u001b[0m\n\u001b[0;32m   4774\u001b[0m         \u001b[0my2\u001b[0m \u001b[1;33m=\u001b[0m \u001b[0mma\u001b[0m\u001b[1;33m.\u001b[0m\u001b[0mmasked_invalid\u001b[0m\u001b[1;33m(\u001b[0m\u001b[0mself\u001b[0m\u001b[1;33m.\u001b[0m\u001b[0mconvert_yunits\u001b[0m\u001b[1;33m(\u001b[0m\u001b[0my2\u001b[0m\u001b[1;33m)\u001b[0m\u001b[1;33m)\u001b[0m\u001b[1;33m\u001b[0m\u001b[0m\n",
      "\u001b[1;32m/usr/local/lib/python2.7/dist-packages/numpy/ma/core.pyc\u001b[0m in \u001b[0;36mmasked_invalid\u001b[1;34m(a, copy)\u001b[0m\n\u001b[0;32m   2343\u001b[0m         \u001b[0mcls\u001b[0m \u001b[1;33m=\u001b[0m \u001b[0mtype\u001b[0m\u001b[1;33m(\u001b[0m\u001b[0ma\u001b[0m\u001b[1;33m)\u001b[0m\u001b[1;33m\u001b[0m\u001b[0m\n\u001b[0;32m   2344\u001b[0m     \u001b[1;32melse\u001b[0m\u001b[1;33m:\u001b[0m\u001b[1;33m\u001b[0m\u001b[0m\n\u001b[1;32m-> 2345\u001b[1;33m         \u001b[0mcondition\u001b[0m \u001b[1;33m=\u001b[0m \u001b[1;33m~\u001b[0m\u001b[1;33m(\u001b[0m\u001b[0mnp\u001b[0m\u001b[1;33m.\u001b[0m\u001b[0misfinite\u001b[0m\u001b[1;33m(\u001b[0m\u001b[0ma\u001b[0m\u001b[1;33m)\u001b[0m\u001b[1;33m)\u001b[0m\u001b[1;33m\u001b[0m\u001b[0m\n\u001b[0m\u001b[0;32m   2346\u001b[0m         \u001b[0mcls\u001b[0m \u001b[1;33m=\u001b[0m \u001b[0mMaskedArray\u001b[0m\u001b[1;33m\u001b[0m\u001b[0m\n\u001b[0;32m   2347\u001b[0m     \u001b[0mresult\u001b[0m \u001b[1;33m=\u001b[0m \u001b[0ma\u001b[0m\u001b[1;33m.\u001b[0m\u001b[0mview\u001b[0m\u001b[1;33m(\u001b[0m\u001b[0mcls\u001b[0m\u001b[1;33m)\u001b[0m\u001b[1;33m\u001b[0m\u001b[0m\n",
      "\u001b[1;31mTypeError\u001b[0m: ufunc 'isfinite' not supported for the input types, and the inputs could not be safely coerced to any supported types according to the casting rule ''safe''"
     ]
    },
    {
     "data": {
      "image/png": "[encoded data removed]",
      "text/plain": [
       "<matplotlib.figure.Figure at 0x7f17caf28a90>"
      ]
     },
     "metadata": {},
     "output_type": "display_data"
    }
   ],
   "source": [
    "plots = interpreter.partial_dependence.plot_partial_dependence([(f_2_1, f_3_2)],\n",
    "                                                         dep_model,\n",
    "                                                         with_variance=True, \n",
    "                                                         sampling_strategy='random-choice',\n",
    "                                                         n_jobs=4, grid_resolution=10, n_samples = 500, sample=True)"
   ]
  },
  {
   "cell_type": "code",
   "execution_count": 14,
   "metadata": {
    "_datascience": {},
    "collapsed": false
   },
   "outputs": [
    {
     "data": {
      "text/plain": [
       "[u'0', u'1']"
      ]
     },
     "execution_count": 14,
     "metadata": {},
     "output_type": "execute_result"
    }
   ],
   "source": [
    "ax = plots[0][1]\n",
    "[i.get_text() for i in ax.get_xticklabels()]"
   ]
  },
  {
   "cell_type": "code",
   "execution_count": 15,
   "metadata": {
    "_datascience": {},
    "collapsed": false
   },
   "outputs": [
    {
     "name": "stdout",
     "output_type": "stream",
     "text": [
      "Status.of.existing.checking.account       A11       A12     A14\n",
      "Credit.history                                                 \n",
      "A32                                  0.501707  0.501707  0.8687\n",
      "A33                                  0.501707  0.501707  0.8687\n",
      "A34                                  0.501707  0.501707  0.8687\n"
     ]
    },
    {
     "data": {
      "text/plain": [
       "[[<matplotlib.figure.Figure at 0x7fe46a08d150>,\n",
       "  <matplotlib.axes._subplots.AxesSubplot at 0x7fe46a14ce10>]]"
      ]
     },
     "execution_count": 15,
     "metadata": {},
     "output_type": "execute_result"
    },
    {
     "data": {
      "image/png": "[encoded data removed]",
      "text/plain": [
       "<matplotlib.figure.Figure at 0x7fe46a08d150>"
      ]
     },
     "metadata": {},
     "output_type": "display_data"
    }
   ],
   "source": [
    "interpreter.partial_dependence.plot_partial_dependence([('Credit.history','Status.of.existing.checking.account')],\n",
    "                                                         dep_model,\n",
    "                                                         with_variance=False, \n",
    "                                                         sampling_strategy='random-choice',\n",
    "                                                         n_jobs=4, grid_resolution=10, n_samples = 500, sample=True)"
   ]
  },
  {
   "cell_type": "code",
   "execution_count": 12,
   "metadata": {
    "_datascience": {},
    "collapsed": false
   },
   "outputs": [
    {
     "data": {
      "text/plain": [
       "[[<matplotlib.figure.Figure at 0x7fe469025190>,\n",
       "  <matplotlib.axes._subplots.AxesSubplot at 0x7fe46a2e9850>]]"
      ]
     },
     "execution_count": 12,
     "metadata": {},
     "output_type": "execute_result"
    },
    {
     "data": {
      "image/png": "[encoded data removed]",
      "text/plain": [
       "<matplotlib.figure.Figure at 0x7fe469025190>"
      ]
     },
     "metadata": {},
     "output_type": "display_data"
    }
   ],
   "source": [
    "\n",
    "feature_names = np.array(selected_input_data.columns)\n",
    "interpreter = Interpretation()\n",
    "interpreter.load_data(selected_input_data.head(5), feature_names=feature_names)\n",
    "\n",
    "interpreter.partial_dependence.plot_partial_dependence(['Duration.in.month'],\n",
    "                                                         dep_model,\n",
    "                                                         with_variance=True, \n",
    "                                                         sampling_strategy='random-choice',\n",
    "                                                         n_jobs=4, grid_resolution=10, n_samples = 500, sample=True)"
   ]
  },
  {
   "cell_type": "code",
   "execution_count": null,
   "metadata": {
    "_datascience": {},
    "collapsed": true
   },
   "outputs": [],
   "source": []
  }
 ],
 "metadata": {
  "_datascience": {},
  "celltoolbar": "Slideshow",
  "kernelspec": {
   "display_name": "Python 2",
   "language": "python",
   "name": "python2"
  },
  "language_info": {
   "codemirror_mode": {
    "name": "ipython",
    "version": 2
   },
   "file_extension": ".py",
   "mimetype": "text/x-python",
   "name": "python",
   "nbconvert_exporter": "python",
   "pygments_lexer": "ipython2",
   "version": "2.7.6"
  }
 },
 "nbformat": 4,
 "nbformat_minor": 0
}
