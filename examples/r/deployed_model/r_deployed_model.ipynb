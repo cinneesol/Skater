{
 "cells": [
  {
   "cell_type": "code",
   "execution_count": 191,
   "metadata": {},
   "outputs": [],
   "source": [
    "from pyinterpret.model import DeployedModel\n",
    "from pyinterpret.model import InMemoryModel\n",
    "from pyinterpret.core.explanations import Interpretation\n",
    "import pandas as pd\n",
    "import numpy as np\n",
    "import json\n",
    "import requests\n",
    "np.random.seed(1)\n",
    "from __future__ import print_function"
   ]
  },
  {
   "cell_type": "code",
   "execution_count": 192,
   "metadata": {},
   "outputs": [],
   "source": [
    "def input_formatter(data):\n",
    "    # Convert a data frame of the format \n",
    "    #     Status.of.existing.checking.account  Duration.in.month Credit.history Savings.account.bonds \n",
    "    # 0                                 A11                  6            A34            A65\n",
    "    # 1                                 A12                 48            A32            A61 \n",
    "    # to the following format:\n",
    "    # {\"input\":[{\"Status.of.existing.checking.account\": \"A11\", \"Duration.in.month\": 24, \"Credit.history\": \"A32\", \n",
    "    # \"Savings.account.bonds\": \"A63\"}, {\"Status.of.existing.checking.account\": \"A12\", \"Duration.in.month\": 23, \n",
    "    # \"Credit.history\": \"A31\", \"Savings.account.bonds\": \"A65\"}, {\"Status.of.existing.checking.account\": \"A12\", \n",
    "    # \"Duration.in.month\": 23, \"Credit.history\": \"A31\", \"Savings.account.bonds\": \"A65\"}]}\n",
    "    #if not isinstance(data, pd.DataFrame):\n",
    "    #        raise TypeError(\"must be a dataframe\")\n",
    "    return {\"input\": pd.DataFrame(data).to_json(orient='records')}\n",
    "    \n",
    "def output_formatter(response, key='probability'):\n",
    "    return np.array(response.json())"
   ]
  },
  {
   "cell_type": "code",
   "execution_count": 193,
   "metadata": {},
   "outputs": [
    {
     "data": {
      "text/html": [
       "<div>\n",
       "<table border=\"1\" class=\"dataframe\">\n",
       "  <thead>\n",
       "    <tr style=\"text-align: right;\">\n",
       "      <th></th>\n",
       "      <th>Status.of.existing.checking.account</th>\n",
       "      <th>Duration.in.month</th>\n",
       "      <th>Credit.history</th>\n",
       "      <th>Purpose</th>\n",
       "      <th>Credit.amount</th>\n",
       "      <th>Savings.account.bonds</th>\n",
       "      <th>Employment.years</th>\n",
       "      <th>Installment.rate.in.percentage.of.disposable.income</th>\n",
       "      <th>Personal.status.and.sex</th>\n",
       "      <th>Other.debtors.guarantors</th>\n",
       "      <th>...</th>\n",
       "      <th>Property</th>\n",
       "      <th>Age.in.years</th>\n",
       "      <th>Other.installment.plans</th>\n",
       "      <th>Housing</th>\n",
       "      <th>Number.of.existing.credits.at.this.bank</th>\n",
       "      <th>Job</th>\n",
       "      <th>Number.of.people.being.liable.to.provide.maintenance.for</th>\n",
       "      <th>Telephone</th>\n",
       "      <th>Foreign.worker</th>\n",
       "      <th>Status</th>\n",
       "    </tr>\n",
       "  </thead>\n",
       "  <tbody>\n",
       "    <tr>\n",
       "      <th>0</th>\n",
       "      <td>A11</td>\n",
       "      <td>6</td>\n",
       "      <td>A34</td>\n",
       "      <td>A43</td>\n",
       "      <td>1169</td>\n",
       "      <td>A65</td>\n",
       "      <td>A75</td>\n",
       "      <td>4</td>\n",
       "      <td>A93</td>\n",
       "      <td>A101</td>\n",
       "      <td>...</td>\n",
       "      <td>A121</td>\n",
       "      <td>67</td>\n",
       "      <td>A143</td>\n",
       "      <td>A152</td>\n",
       "      <td>2</td>\n",
       "      <td>A173</td>\n",
       "      <td>1</td>\n",
       "      <td>A192</td>\n",
       "      <td>A201</td>\n",
       "      <td>1</td>\n",
       "    </tr>\n",
       "  </tbody>\n",
       "</table>\n",
       "<p>1 rows × 21 columns</p>\n",
       "</div>"
      ]
     },
     "output_type": "execute_result",
     "metadata": {}
    }
   ],
   "source": [
    "url = \"https://archive.ics.uci.edu/ml/machine-learning-databases/statlog/german/german.data\"\n",
    "feature_name = ['Status of existing checking account', 'Duration in month', 'Credit history'\n",
    ", 'Purpose', 'Credit amount', 'Savings account.bonds', 'Employment years'\n",
    ", 'Installment rate in percentage of disposable income'\n",
    ", 'Personal status and sex', 'Other debtors.guarantors', 'Present residence since'\n",
    ", 'Property', 'Age in years', 'Other installment plans', 'Housing', 'Number of existing credits at this bank'\n",
    ", 'Job', 'Number of people being liable to provide maintenance for', 'Telephone', 'Foreign worker', 'Status']\n",
    "\n",
    "f_n = [f.replace(' ', '.') for f in feature_name]\n",
    "input_data = pd.read_csv(url, sep=' ', names=f_n)\n",
    "pd.DataFrame(input_data).head(1)"
   ]
  },
  {
   "cell_type": "code",
   "execution_count": 194,
   "metadata": {},
   "outputs": [],
   "source": [
    "deployed_model_uri = \"http://datsci.dev:8000/predict\""
   ]
  },
  {
   "cell_type": "code",
   "execution_count": 195,
   "metadata": {},
   "outputs": [
    {
     "name": "stdout",
     "output_type": "stream",
     "text": [
      "  Status.of.existing.checking.account  Duration.in.month Credit.history  \\\n",
      "0                                 A11                  6            A34   \n",
      "1                                 A12                 48            A32   \n",
      "\n",
      "  Savings.account.bonds  \n",
      "0                   A65  \n",
      "1                   A61  \n",
      "<class 'pandas.core.frame.DataFrame'>\n"
     ]
    }
   ],
   "source": [
    "# Filter on the features as needed by the model\n",
    "selected_input_data = input_data[['Status.of.existing.checking.account', 'Duration.in.month', 'Credit.history', \n",
    "                                  'Savings.account.bonds']]\n",
    "#print(type(selected_input_data.values))\n",
    "print(selected_input_data.head(2))\n",
    "#input_formatter(selected_input_data.values)\n",
    "print(type(selected_input_data))"
   ]
  },
  {
   "cell_type": "code",
   "execution_count": 196,
   "metadata": {},
   "outputs": [
    {
     "name": "stdout",
     "output_type": "stream",
     "text": [
      "True\n",
      "<class 'pandas.core.frame.DataFrame'>\n",
      "{'input': '[{\"Status.of.existing.checking.account\":\"A11\",\"Duration.in.month\":6,\"Credit.history\":\"A34\",\"Savings.account.bonds\":\"A65\"},{\"Status.of.existing.checking.account\":\"A12\",\"Duration.in.month\":48,\"Credit.history\":\"A32\",\"Savings.account.bonds\":\"A61\"},{\"Status.of.existing.checking.account\":\"A14\",\"Duration.in.month\":12,\"Credit.history\":\"A34\",\"Savings.account.bonds\":\"A61\"},{\"Status.of.existing.checking.account\":\"A11\",\"Duration.in.month\":42,\"Credit.history\":\"A32\",\"Savings.account.bonds\":\"A61\"},{\"Status.of.existing.checking.account\":\"A11\",\"Duration.in.month\":24,\"Credit.history\":\"A33\",\"Savings.account.bonds\":\"A61\"}]'}\n"
     ]
    }
   ],
   "source": [
    "# Convert the dataframe to the following the required format:\n",
    "print(isinstance(selected_input_data, pd.DataFrame))\n",
    "print(type(selected_input_data))\n",
    "input_data = input_formatter(selected_input_data.head(5))\n",
    "print(input_data)"
   ]
  },
  {
   "cell_type": "code",
   "execution_count": 201,
   "metadata": {},
   "outputs": [
    {
     "name": "stdout",
     "output_type": "stream",
     "text": [
      "<class 'requests.models.Response'>\n",
      "{u'probability': [0.6942, 0.3776, 0.8687, 0.3776, 0.3776]}\n"
     ]
    }
   ],
   "source": [
    "# Just testing post request independent of deploy\n",
    "r = requests.post(deployed_model_uri, json=input_data)\n",
    "print(type(r))\n",
    "print(output_formatter(r))"
   ]
  },
  {
   "cell_type": "code",
   "execution_count": 205,
   "metadata": {},
   "outputs": [],
   "source": [
    "dep_model = DeployedModel(deployed_model_uri,\n",
    "                         input_formatter,\n",
    "                         output_formatter,\n",
    "                         examples=selected_input_data.head(5))"
   ]
  },
  {
   "cell_type": "code",
   "execution_count": 200,
   "metadata": {},
   "outputs": [
    {
     "ename": "IndexError",
     "evalue": "tuple index out of range",
     "output_type": "error",
     "traceback": [
      "\u001b[1;31m---------------------------------------------------------------------------\u001b[0m",
      "\u001b[1;31mIndexError\u001b[0m                                Traceback (most recent call last)",
      "\u001b[1;32m<ipython-input-200-585c00d31945>\u001b[0m in \u001b[0;36m<module>\u001b[1;34m()\u001b[0m\n\u001b[0;32m      3\u001b[0m                                                          \u001b[0mwith_variance\u001b[0m\u001b[1;33m=\u001b[0m\u001b[0mTrue\u001b[0m\u001b[1;33m,\u001b[0m\u001b[1;33m\u001b[0m\u001b[0m\n\u001b[0;32m      4\u001b[0m                                                          \u001b[0msampling_strategy\u001b[0m\u001b[1;33m=\u001b[0m\u001b[1;34m'random-choice'\u001b[0m\u001b[1;33m,\u001b[0m\u001b[1;33m\u001b[0m\u001b[0m\n\u001b[1;32m----> 5\u001b[1;33m                                                          n_jobs=4, grid_resolution=10, n_samples = 500, sample=True)\n\u001b[0m",
      "\u001b[1;32m/usr/local/lib/python2.7/dist-packages/pyinterpret-0.0.1-py2.7.egg/pyinterpret/core/global_interpretation/partial_dependence.pyc\u001b[0m in \u001b[0;36mplot_partial_dependence\u001b[1;34m(self, feature_ids, modelinstance, grid, grid_resolution, grid_range, n_jobs, sample, sampling_strategy, n_samples, bin_count, samples_per_bin, with_variance)\u001b[0m\n\u001b[0;32m    434\u001b[0m                                                           \u001b[0mn_samples\u001b[0m\u001b[1;33m=\u001b[0m\u001b[0mn_samples\u001b[0m\u001b[1;33m,\u001b[0m \u001b[0mbin_count\u001b[0m\u001b[1;33m=\u001b[0m\u001b[0mbin_count\u001b[0m\u001b[1;33m,\u001b[0m\u001b[1;33m\u001b[0m\u001b[0m\n\u001b[0;32m    435\u001b[0m                                                           \u001b[0msamples_per_bin\u001b[0m\u001b[1;33m=\u001b[0m\u001b[0msamples_per_bin\u001b[0m\u001b[1;33m,\u001b[0m\u001b[1;33m\u001b[0m\u001b[0m\n\u001b[1;32m--> 436\u001b[1;33m                                                           n_jobs=n_jobs, return_metadata=True)\n\u001b[0m\u001b[0;32m    437\u001b[0m \u001b[1;33m\u001b[0m\u001b[0m\n\u001b[0;32m    438\u001b[0m                 \u001b[0mself\u001b[0m\u001b[1;33m.\u001b[0m\u001b[0minterpreter\u001b[0m\u001b[1;33m.\u001b[0m\u001b[0mlogger\u001b[0m\u001b[1;33m.\u001b[0m\u001b[0minfo\u001b[0m\u001b[1;33m(\u001b[0m\u001b[1;34m\"done computing pd, now plotting ...\"\u001b[0m\u001b[1;33m)\u001b[0m\u001b[1;33m\u001b[0m\u001b[0m\n",
      "\u001b[1;32m/usr/local/lib/python2.7/dist-packages/pyinterpret-0.0.1-py2.7.egg/pyinterpret/core/global_interpretation/partial_dependence.pyc\u001b[0m in \u001b[0;36mpartial_dependence\u001b[1;34m(self, feature_ids, modelinstance, grid, grid_resolution, n_jobs, grid_range, sample, sampling_strategy, n_samples, bin_count, samples_per_bin, return_metadata)\u001b[0m\n\u001b[0;32m    306\u001b[0m             \u001b[0mpd_list\u001b[0m \u001b[1;33m=\u001b[0m \u001b[0mexecutor_instance\u001b[0m\u001b[1;33m.\u001b[0m\u001b[0mmap\u001b[0m\u001b[1;33m(\u001b[0m\u001b[0mpd_func\u001b[0m\u001b[1;33m,\u001b[0m \u001b[0marg_list\u001b[0m\u001b[1;33m)\u001b[0m\u001b[1;33m\u001b[0m\u001b[0m\n\u001b[0;32m    307\u001b[0m         \u001b[1;32mexcept\u001b[0m\u001b[1;33m:\u001b[0m\u001b[1;33m\u001b[0m\u001b[0m\n\u001b[1;32m--> 308\u001b[1;33m             \u001b[0mpd_list\u001b[0m \u001b[1;33m=\u001b[0m \u001b[0mmap\u001b[0m\u001b[1;33m(\u001b[0m\u001b[0mpd_func\u001b[0m\u001b[1;33m,\u001b[0m \u001b[0marg_list\u001b[0m\u001b[1;33m)\u001b[0m\u001b[1;33m\u001b[0m\u001b[0m\n\u001b[0m\u001b[0;32m    309\u001b[0m         \u001b[1;32mfinally\u001b[0m\u001b[1;33m:\u001b[0m\u001b[1;33m\u001b[0m\u001b[0m\n\u001b[0;32m    310\u001b[0m             \u001b[0mexecutor_instance\u001b[0m\u001b[1;33m.\u001b[0m\u001b[0mclose\u001b[0m\u001b[1;33m(\u001b[0m\u001b[1;33m)\u001b[0m\u001b[1;33m\u001b[0m\u001b[0m\n",
      "\u001b[1;32m/usr/local/lib/python2.7/dist-packages/pyinterpret-0.0.1-py2.7.egg/pyinterpret/core/global_interpretation/partial_dependence.pyc\u001b[0m in \u001b[0;36m_compute_pd\u001b[1;34m(index, estimator_fn, grid_expanded, pd_metadata, input_data)\u001b[0m\n\u001b[0;32m     64\u001b[0m \u001b[1;33m\u001b[0m\u001b[0m\n\u001b[0;32m     65\u001b[0m     \u001b[0mpredictions\u001b[0m \u001b[1;33m=\u001b[0m \u001b[0mestimator_fn\u001b[0m\u001b[1;33m(\u001b[0m\u001b[0mdata_sample\u001b[0m\u001b[1;33m.\u001b[0m\u001b[0mvalues\u001b[0m\u001b[1;33m)\u001b[0m\u001b[1;33m\u001b[0m\u001b[0m\n\u001b[1;32m---> 66\u001b[1;33m     \u001b[0mmean_prediction\u001b[0m \u001b[1;33m=\u001b[0m \u001b[0mnp\u001b[0m\u001b[1;33m.\u001b[0m\u001b[0mmean\u001b[0m\u001b[1;33m(\u001b[0m\u001b[0mpredictions\u001b[0m\u001b[1;33m,\u001b[0m \u001b[0maxis\u001b[0m\u001b[1;33m=\u001b[0m\u001b[1;36m0\u001b[0m\u001b[1;33m)\u001b[0m\u001b[1;33m\u001b[0m\u001b[0m\n\u001b[0m\u001b[0;32m     67\u001b[0m     \u001b[0mstd_prediction\u001b[0m \u001b[1;33m=\u001b[0m \u001b[0mnp\u001b[0m\u001b[1;33m.\u001b[0m\u001b[0mstd\u001b[0m\u001b[1;33m(\u001b[0m\u001b[0mpredictions\u001b[0m\u001b[1;33m,\u001b[0m \u001b[0maxis\u001b[0m\u001b[1;33m=\u001b[0m\u001b[1;36m0\u001b[0m\u001b[1;33m)\u001b[0m\u001b[1;33m\u001b[0m\u001b[0m\n\u001b[0;32m     68\u001b[0m \u001b[1;33m\u001b[0m\u001b[0m\n",
      "\u001b[1;32m/usr/local/lib/python2.7/dist-packages/numpy/core/fromnumeric.pyc\u001b[0m in \u001b[0;36mmean\u001b[1;34m(a, axis, dtype, out, keepdims)\u001b[0m\n\u001b[0;32m   2876\u001b[0m \u001b[1;33m\u001b[0m\u001b[0m\n\u001b[0;32m   2877\u001b[0m     return _methods._mean(a, axis=axis, dtype=dtype,\n\u001b[1;32m-> 2878\u001b[1;33m                           out=out, keepdims=keepdims)\n\u001b[0m\u001b[0;32m   2879\u001b[0m \u001b[1;33m\u001b[0m\u001b[0m\n\u001b[0;32m   2880\u001b[0m \u001b[1;33m\u001b[0m\u001b[0m\n",
      "\u001b[1;32m/usr/local/lib/python2.7/dist-packages/numpy/core/_methods.pyc\u001b[0m in \u001b[0;36m_mean\u001b[1;34m(a, axis, dtype, out, keepdims)\u001b[0m\n\u001b[0;32m     54\u001b[0m     \u001b[0marr\u001b[0m \u001b[1;33m=\u001b[0m \u001b[0masanyarray\u001b[0m\u001b[1;33m(\u001b[0m\u001b[0ma\u001b[0m\u001b[1;33m)\u001b[0m\u001b[1;33m\u001b[0m\u001b[0m\n\u001b[0;32m     55\u001b[0m \u001b[1;33m\u001b[0m\u001b[0m\n\u001b[1;32m---> 56\u001b[1;33m     \u001b[0mrcount\u001b[0m \u001b[1;33m=\u001b[0m \u001b[0m_count_reduce_items\u001b[0m\u001b[1;33m(\u001b[0m\u001b[0marr\u001b[0m\u001b[1;33m,\u001b[0m \u001b[0maxis\u001b[0m\u001b[1;33m)\u001b[0m\u001b[1;33m\u001b[0m\u001b[0m\n\u001b[0m\u001b[0;32m     57\u001b[0m     \u001b[1;31m# Make this warning show up first\u001b[0m\u001b[1;33m\u001b[0m\u001b[1;33m\u001b[0m\u001b[0m\n\u001b[0;32m     58\u001b[0m     \u001b[1;32mif\u001b[0m \u001b[0mrcount\u001b[0m \u001b[1;33m==\u001b[0m \u001b[1;36m0\u001b[0m\u001b[1;33m:\u001b[0m\u001b[1;33m\u001b[0m\u001b[0m\n",
      "\u001b[1;32m/usr/local/lib/python2.7/dist-packages/numpy/core/_methods.pyc\u001b[0m in \u001b[0;36m_count_reduce_items\u001b[1;34m(arr, axis)\u001b[0m\n\u001b[0;32m     48\u001b[0m     \u001b[0mitems\u001b[0m \u001b[1;33m=\u001b[0m \u001b[1;36m1\u001b[0m\u001b[1;33m\u001b[0m\u001b[0m\n\u001b[0;32m     49\u001b[0m     \u001b[1;32mfor\u001b[0m \u001b[0max\u001b[0m \u001b[1;32min\u001b[0m \u001b[0maxis\u001b[0m\u001b[1;33m:\u001b[0m\u001b[1;33m\u001b[0m\u001b[0m\n\u001b[1;32m---> 50\u001b[1;33m         \u001b[0mitems\u001b[0m \u001b[1;33m*=\u001b[0m \u001b[0marr\u001b[0m\u001b[1;33m.\u001b[0m\u001b[0mshape\u001b[0m\u001b[1;33m[\u001b[0m\u001b[0max\u001b[0m\u001b[1;33m]\u001b[0m\u001b[1;33m\u001b[0m\u001b[0m\n\u001b[0m\u001b[0;32m     51\u001b[0m     \u001b[1;32mreturn\u001b[0m \u001b[0mitems\u001b[0m\u001b[1;33m\u001b[0m\u001b[0m\n\u001b[0;32m     52\u001b[0m \u001b[1;33m\u001b[0m\u001b[0m\n",
      "\u001b[1;31mIndexError\u001b[0m: tuple index out of range"
     ]
    }
   ],
   "source": [
    "feature_names = np.array(selected_input_data.columns)\n",
    "interpreter = Interpretation()\n",
    "interpreter.load_data(selected_input_data.head(5), feature_names=feature_names)\n",
    "\n",
    "interpreter.partial_dependence.plot_partial_dependence(['Duration.in.month'],\n",
    "                                                         dep_model,\n",
    "                                                         with_variance=True, \n",
    "                                                         sampling_strategy='random-choice',\n",
    "                                                         n_jobs=4, grid_resolution=10, n_samples = 500, sample=True)"
   ]
  },
  {
   "cell_type": "code",
   "execution_count": 187,
   "metadata": {},
   "outputs": [
    {
     "name": "stdout",
     "output_type": "stream",
     "text": [
      "['Status.of.existing.checking.account' 'Duration.in.month' 'Credit.history'\n",
      " 'Savings.account.bonds']\n"
     ]
    }
   ],
   "source": [
    "print(np.array(selected_input_data.columns))"
   ]
  },
  {
   "cell_type": "markdown",
   "metadata": {},
   "source": [
    "# Ignore code below, just test code"
   ]
  },
  {
   "cell_type": "code",
   "execution_count": 18,
   "metadata": {},
   "outputs": [],
   "source": [
    "from sklearn.datasets import load_boston\n",
    "\n",
    "boston = load_boston()\n",
    "X_boston = boston.data\n",
    "features_boston = boston.feature_names\n",
    "y_boston = boston.target"
   ]
  },
  {
   "cell_type": "code",
   "execution_count": 19,
   "metadata": {},
   "outputs": [
    {
     "data": {
      "text/plain": [
       "numpy.ndarray"
      ]
     },
     "execution_count": 19,
     "output_type": "execute_result",
     "metadata": {}
    }
   ],
   "source": [
    "type(X_boston)"
   ]
  },
  {
   "cell_type": "code",
   "execution_count": 25,
   "metadata": {},
   "outputs": [],
   "source": [
    "import matplotlib.pyplot as plt\n",
    "import pandas as pd\n",
    "import numpy as np\n",
    "plt.rcParams['figure.figsize'] = (16, 10)\n",
    "%matplotlib inline\n",
    "from sklearn.datasets import load_boston\n",
    "\n",
    "boston = load_boston()\n",
    "X_boston = boston.data\n",
    "features_boston = boston.feature_names\n",
    "y_boston = boston.target"
   ]
  },
  {
   "cell_type": "code",
   "execution_count": 26,
   "metadata": {},
   "outputs": [
    {
     "name": "stdout",
     "output_type": "stream",
     "text": [
      "<type 'numpy.ndarray'>\n"
     ]
    }
   ],
   "source": [
    "print(type(X_boston[:1000]))"
   ]
  },
  {
   "cell_type": "code",
   "execution_count": 27,
   "metadata": {},
   "outputs": [
    {
     "name": "stdout",
     "output_type": "stream",
     "text": [
      "        0     1     2    3      4      5      6       7    8      9     10  \\\n",
      "0  0.00632  18.0  2.31  0.0  0.538  6.575   65.2  4.0900  1.0  296.0  15.3   \n",
      "1  0.02731   0.0  7.07  0.0  0.469  6.421   78.9  4.9671  2.0  242.0  17.8   \n",
      "2  0.02729   0.0  7.07  0.0  0.469  7.185   61.1  4.9671  2.0  242.0  17.8   \n",
      "3  0.03237   0.0  2.18  0.0  0.458  6.998   45.8  6.0622  3.0  222.0  18.7   \n",
      "4  0.06905   0.0  2.18  0.0  0.458  7.147   54.2  6.0622  3.0  222.0  18.7   \n",
      "5  0.02985   0.0  2.18  0.0  0.458  6.430   58.7  6.0622  3.0  222.0  18.7   \n",
      "6  0.08829  12.5  7.87  0.0  0.524  6.012   66.6  5.5605  5.0  311.0  15.2   \n",
      "7  0.14455  12.5  7.87  0.0  0.524  6.172   96.1  5.9505  5.0  311.0  15.2   \n",
      "8  0.21124  12.5  7.87  0.0  0.524  5.631  100.0  6.0821  5.0  311.0  15.2   \n",
      "9  0.17004  12.5  7.87  0.0  0.524  6.004   85.9  6.5921  5.0  311.0  15.2   \n",
      "\n",
      "       11     12  \n",
      "0  396.90   4.98  \n",
      "1  396.90   9.14  \n",
      "2  392.83   4.03  \n",
      "3  394.63   2.94  \n",
      "4  396.90   5.33  \n",
      "5  394.12   5.21  \n",
      "6  395.60  12.43  \n",
      "7  396.90  19.15  \n",
      "8  386.63  29.93  \n",
      "9  386.71  17.10  \n"
     ]
    }
   ],
   "source": [
    "print(pd.DataFrame(X_boston[:10]))"
   ]
  },
  {
   "cell_type": "code",
   "execution_count": 28,
   "metadata": {},
   "outputs": [
    {
     "name": "stdout",
     "output_type": "stream",
     "text": [
      "<type 'dict'>\n"
     ]
    }
   ],
   "source": [
    "import requests\n",
    "import json\n",
    "data_input = input_formatter(X_boston[:10])\n",
    "print(type(data_input))"
   ]
  },
  {
   "cell_type": "code",
   "execution_count": 64,
   "metadata": {},
   "outputs": [
    {
     "ename": "NameError",
     "evalue": "name 'data_input' is not defined",
     "output_type": "error",
     "traceback": [
      "\u001b[1;31m---------------------------------------------------------------------------\u001b[0m",
      "\u001b[1;31mNameError\u001b[0m                                 Traceback (most recent call last)",
      "\u001b[1;32m<ipython-input-64-8192ada5ccc9>\u001b[0m in \u001b[0;36m<module>\u001b[1;34m()\u001b[0m\n\u001b[1;32m----> 1\u001b[1;33m \u001b[0mr\u001b[0m \u001b[1;33m=\u001b[0m \u001b[0mrequests\u001b[0m\u001b[1;33m.\u001b[0m\u001b[0mpost\u001b[0m\u001b[1;33m(\u001b[0m\u001b[1;34m\"http://datsci.dev:5000/predict\"\u001b[0m\u001b[1;33m,\u001b[0m \u001b[0mdata\u001b[0m\u001b[1;33m=\u001b[0m\u001b[0mdata_input\u001b[0m\u001b[1;33m)\u001b[0m\u001b[1;33m\u001b[0m\u001b[0m\n\u001b[0m",
      "\u001b[1;31mNameError\u001b[0m: name 'data_input' is not defined"
     ]
    }
   ],
   "source": [
    "r = requests.post(\"http://datsci.dev:5000/predict\", json=data_input)"
   ]
  },
  {
   "cell_type": "code",
   "execution_count": null,
   "metadata": {},
   "outputs": [],
   "source": [
    ""
   ]
  }
 ],
 "metadata": {
  "celltoolbar": "Slideshow",
  "kernelspec": {
   "display_name": "Python 2",
   "language": "python",
   "name": "python2"
  },
  "language_info": {
   "codemirror_mode": {
    "name": "ipython",
    "version": 2.0
   },
   "file_extension": ".py",
   "mimetype": "text/x-python",
   "name": "python",
   "nbconvert_exporter": "python",
   "pygments_lexer": "ipython2",
   "version": "2.7.6"
  }
 },
 "nbformat": 4,
 "nbformat_minor": 0
}